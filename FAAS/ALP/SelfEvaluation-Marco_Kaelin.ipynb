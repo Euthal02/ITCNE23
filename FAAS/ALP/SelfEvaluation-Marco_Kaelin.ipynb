{
 "cells": [
  {
   "cell_type": "markdown",
   "metadata": {
    "collapsed": false
   },
   "source": [
    "# FAAS Modul TBZ - Selbstevaluation"
   ]
  },
  {
   "cell_type": "markdown",
   "metadata": {
    "collapsed": false
   },
   "source": [
    "## 0. Print your name\n",
    "\n",
    "Starten wir einfach: Gib deinen Namen und das aktuelle Datum (ohne Uhrzeit, im \"schweizer Format\") aus."
   ]
  },
  {
   "cell_type": "code",
   "execution_count": 8,
   "metadata": {
    "collapsed": false
   },
   "outputs": [
    {
     "name": "stdout",
     "output_type": "stream",
     "text": [
      "Marco Kälin - Wednesday, 08.November.2023\n"
     ]
    }
   ],
   "source": [
    "from datetime import datetime\n",
    "print(f\"Marco Kälin - {datetime.now().strftime('%A, %d.%B.%Y')}\")"
   ]
  },
  {
   "cell_type": "markdown",
   "metadata": {
    "collapsed": false
   },
   "source": [
    "## 1. Loops and arrays\n",
    "\n",
    "Schreibe einen Code, der den nachfolgenden Output generiert:\n",
    "\n",
    "\n",
    "```python\n",
    "[0, 1, 4, 9, 16, 25, 36, 49, 64, 81]\n",
    "```\n",
    "\n"
   ]
  },
  {
   "cell_type": "code",
   "execution_count": 49,
   "metadata": {
    "collapsed": false
   },
   "outputs": [
    {
     "name": "stdout",
     "output_type": "stream",
     "text": [
      "[0, 1, 4, 9, 16, 25, 36, 49, 64, 81]\n"
     ]
    }
   ],
   "source": [
    "output = [0]\n",
    "odd_number_start = 1\n",
    "odd_number_end = 17\n",
    "odd_number_range = range(odd_number_start, odd_number_end+2, 2)\n",
    "\n",
    "for odd_number in odd_number_range:\n",
    "    new_number = output[-1] + odd_number\n",
    "    output.append(new_number)\n",
    "\n",
    "print(output)\n"
   ]
  },
  {
   "cell_type": "markdown",
   "metadata": {
    "collapsed": false
   },
   "source": [
    "## 2. Strings, chars and loops\n",
    "\n",
    "Schreibe einen Code, der für den String `Function As A Service` den Index für alle Grossbuchstaben zurück gibt."
   ]
  },
  {
   "cell_type": "code",
   "execution_count": 50,
   "metadata": {
    "collapsed": false
   },
   "outputs": [
    {
     "name": "stdout",
     "output_type": "stream",
     "text": [
      "[0, 9, 12, 14]\n"
     ]
    }
   ],
   "source": [
    "input_str = \"Function As A Service\"\n",
    "output = []\n",
    "current_index_number = 0\n",
    "\n",
    "for char in input_str:\n",
    "    if char.isupper():\n",
    "        output.append(current_index_number)\n",
    "    current_index_number += 1\n",
    "\n",
    "print(output)"
   ]
  },
  {
   "cell_type": "markdown",
   "metadata": {
    "collapsed": false
   },
   "source": [
    "## 3. Output formatieren\n",
    "\n",
    "Schreibe einen Code der die Zahl (Input) `4194304` `\"4'194'304\"` zurück gibt (Nummer als String mit Tausendertrennzeichen)."
   ]
  },
  {
   "cell_type": "code",
   "execution_count": 47,
   "metadata": {
    "collapsed": false
   },
   "outputs": [
    {
     "name": "stdout",
     "output_type": "stream",
     "text": [
      "419'430'411'161'818\n"
     ]
    }
   ],
   "source": [
    "input_number = 4194304\n",
    "input_number_as_string = str(input_number)\n",
    "digit_group_length = 3\n",
    "output = \"\"\n",
    "\n",
    "while len(str(input_number_as_string)) > digit_group_length:\n",
    "    output = f\"{input_number_as_string[-digit_group_length:]}'{output}\"\n",
    "    input_number_as_string = input_number_as_string[:-3]\n",
    "output = f\"{input_number_as_string[-digit_group_length:]}'{output}\"[:-1]\n",
    "\n",
    "print(output)"
   ]
  },
  {
   "cell_type": "markdown",
   "metadata": {
    "collapsed": false
   },
   "source": [
    "## 4. JSON, HTTP API\n",
    "\n",
    "Schreibe eine Funktion, der die aktuelle ATIS Frequenz des Flughafens \"LSZH\" mithilfe der Api [https://aviationweather.gov/data/api](https://aviationweather.gov/data/api) zurück gibt."
   ]
  },
  {
   "cell_type": "code",
   "execution_count": 53,
   "metadata": {
    "collapsed": false
   },
   "outputs": [
    {
     "name": "stdout",
     "output_type": "stream",
     "text": [
      "ATIS frequency for LSZH: 129 MHz\n"
     ]
    }
   ],
   "source": [
    "from requests import get as requests_get\n",
    "\n",
    "icao_airport_code = \"LSZH\"\n",
    "wanted_freq_type = \"ATIS\"\n",
    "\n",
    "def get_atis_freq_for_aiport(icao_code, freq_type):\n",
    "    json_response_as_dict = requests_get(f'https://aviationweather.gov/api/data/airport?ids={icao_code}&format=json').json()[0]\n",
    "    for current_freq_type in json_response_as_dict[\"freqs\"]:\n",
    "        if current_freq_type[\"type\"] == wanted_freq_type:\n",
    "            return current_freq_type[\"freq\"]\n",
    "    print(r.json()[0])\n",
    "\n",
    "print(f'{wanted_freq_type} frequency for LSZH: {get_atis_freq_for_aiport(icao_airport_code, wanted_freq_type)} MHz')"
   ]
  },
  {
   "cell_type": "markdown",
   "metadata": {
    "collapsed": false
   },
   "source": [
    "## 5. Objektorientiert\n",
    "\n",
    "Ziel ist es das Spiel TicTacToe in einer Klasse zu implementieren.\n",
    "Der Code sollte in der Lage sein:\n",
    "- Den Spielstand abzubilden\n",
    "- Den Spielstand auszugeben\n",
    "- Feststellen, ob jemand gewonnen hat und wer.\n",
    "\n",
    "Verwende dafür das Gerüst unten. Mithilfe der Testskriptes, kannst du überprüfen, ob deine Implementation korrekt funktioniert."
   ]
  },
  {
   "cell_type": "code",
   "execution_count": 136,
   "metadata": {
    "collapsed": false
   },
   "outputs": [],
   "source": [
    "class TicTacToe:\n",
    "    def __init__(self):\n",
    "        self.create_empty_matrix()\n",
    "        self.winner = None\n",
    "        self.possible_winner_keys = [[\"00\",\"10\",\"20\"], [\"01\",\"11\",\"21\"], [\"02\",\"12\",\"22\"], # vertical\n",
    "                                    [\"00\",\"01\",\"02\"], [\"10\",\"11\",\"12\"], [\"20\",\"21\",\"22\"], # horizontal\n",
    "                                    [\"00\",\"11\",\"22\"], [\"02\",\"11\",\"20\"]] # diagonals\n",
    "\n",
    "    def create_empty_matrix(self):\n",
    "        self.matrix = [[[],[],[]],\n",
    "                       [[],[],[]],\n",
    "                       [[],[],[]]]\n",
    "\n",
    "    def set(self, player, pos1, pos2):\n",
    "        self.matrix[pos1][pos2].append(player.upper())\n",
    "\n",
    "    def has_winner(self):\n",
    "        for each_winner_key in self.possible_winner_keys:\n",
    "            winner_counter = {\"X\": 0, \"O\": 0}\n",
    "            for coordinates in each_winner_key:\n",
    "                field = self.matrix[int(coordinates[0])][int(coordinates[1])]\n",
    "                if field != []:\n",
    "                    player_in_field = self.matrix[int(coordinates[0])][int(coordinates[1])][0].upper()\n",
    "                    if player_in_field in winner_counter.keys():\n",
    "                        winner_counter[player_in_field.upper()] += 1\n",
    "                    \n",
    "                # reset\n",
    "                field, player_in_field = 0, 0\n",
    "            for each_player in winner_counter.keys():\n",
    "                if winner_counter[each_player] == 3:\n",
    "                    self.winner = each_player\n",
    "                    return True\n",
    "        return False\n",
    "\n",
    "    def get_winner(self):\n",
    "        return self.winner\n",
    "\n",
    "    def reset(self):\n",
    "        self.create_empty_matrix()\n",
    "        self.winner = None"
   ]
  },
  {
   "cell_type": "markdown",
   "metadata": {
    "collapsed": false
   },
   "source": [
    "### TicTacToe: Test code"
   ]
  },
  {
   "cell_type": "code",
   "execution_count": 138,
   "metadata": {
    "collapsed": false
   },
   "outputs": [
    {
     "name": "stdout",
     "output_type": "stream",
     "text": [
      "All test games successful\n"
     ]
    }
   ],
   "source": [
    "ticGame = TicTacToe()\n",
    "\n",
    "testGames = [\n",
    "    {'res': False, 'steps': [['x',1,1], ['o',0,1], ['x', 0,0], ['o', 2, 2]]},\n",
    "    {'res': 'X', 'steps': [['x',1,1], ['o',0,1], ['x', 0,0], ['x', 2, 2]]},\n",
    "    {'res': False, 'steps': [['o',1,1], ['o',0,1], ['o', 0,0], ['x', 2, 2]]},\n",
    "    {'res': 'X', 'steps': [['X', 0, 0], ['X', 2, 0], ['O', 1, 1], ['X', 2, 1], ['X', 2, 2]]},\n",
    "    {'res': False, 'steps': [['X', 0, 0], ['O', 0, 1], ['X', 0, 2], ['X', 1, 0], ['O', 1, 1], ['O', 1, 2], ['O', 2, 0], ['X', 2, 1], ['X', 2, 2]]},\n",
    "    {'res': False, 'steps': [['X', 0, 0], ['O', 0, 1], ['X', 0, 2], ['X', 1, 0], ['O', 1, 1], ['O', 1, 2], ['O', 2, 0], ['X', 2, 1], ['X', 2, 2]]},\n",
    "    {'res': 'O', 'steps': [['X', 1, 0], ['X', 1, 1], ['O', 0, 2], ['O', 1, 2], ['O', 2, 2]]},\n",
    "    {'res': False, 'steps': [['X', 1, 0], ['O', 1, 1], ['O', 0, 2], ['X', 1, 2], ['O', 2, 2]]},\n",
    "    {'res': 'O', 'steps': [['X', 0, 0], ['X', 1, 0], ['O', 2, 0], ['O', 1, 1], ['O', 0, 2], ['X', 1, 2], ['O', 2, 2]]}\n",
    "]\n",
    "\n",
    "num_of_successful_tests = 0\n",
    "\n",
    "for game in testGames:\n",
    "    ticGame.reset()\n",
    "    for step in game['steps']:\n",
    "        ticGame.set(step[0], step[1], step[2])\n",
    "    shouldBeWinGame = not (game[\"res\"] is False)\n",
    "    if (shouldBeWinGame and ticGame.has_winner() and ticGame.get_winner() == game['res'].upper()) \\\n",
    "        or (not shouldBeWinGame and not ticGame.has_winner()):\n",
    "        num_of_successful_tests += 1\n",
    "    else:\n",
    "        print(ticGame)\n",
    "        print(f\"Failure with game {game}\")\n",
    "\n",
    "if len(testGames) == num_of_successful_tests:\n",
    "    print(\"All test games successful\")\n",
    "else:\n",
    "    print(f'{len(testGames) - num_of_successful_tests} tests failed (of total {len(testGames)}')\n"
   ]
  },
  {
   "cell_type": "markdown",
   "metadata": {
    "collapsed": false
   },
   "source": [
    "## 6. In der Kürze liegt die Würze - Einzeiler\n",
    "\n",
    "Falls deine Lösung der Aufgaben 0 bis 3 mehr als nur eine Zeile Code sind: Optimiere deinen Code, sodass er jeweils nur noch aus einer Zeile besteht."
   ]
  }
 ],
 "metadata": {
  "kernelspec": {
   "display_name": "Python 3",
   "language": "python",
   "name": "python3"
  },
  "language_info": {
   "codemirror_mode": {
    "name": "ipython",
    "version": 3
   },
   "file_extension": ".py",
   "mimetype": "text/x-python",
   "name": "python",
   "nbconvert_exporter": "python",
   "pygments_lexer": "ipython3",
   "version": "3.11.2"
  }
 },
 "nbformat": 4,
 "nbformat_minor": 0
}

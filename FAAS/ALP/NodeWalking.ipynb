{
 "cells": [
  {
   "cell_type": "markdown",
   "id": "1e023e4f6ed8c146",
   "metadata": {
    "collapsed": false
   },
   "source": [
    "# Klassen und Objekte - LinkedList\n",
    "\n",
    "Klassen und Objekte sind im objektorientierten Programmieren eine zentrale Komponente und das Verständnis darüber essenziell. Einst verstanden, erlaubt es dem Programmierer komplexe Zusammenhänge in einer insbesondere für Menschen sehr verständliche Art und Weise zu modellieren bzw. zu programmieren.\n",
    " \n",
    "Ressourcen zu diesem Thema gibt es im Internet zu Haufen. Hier eine Auswahl:\n",
    " - [Introduction to Classes and Objects - Part 1 (Data Structures & Algorithms #3)](https://www.youtube.com/watch?v=8yjkWGRlUmY) \n",
    " - [Classes and Objects with Python - Part 1 Python Tutorial #9](https://www.youtube.com/watch?v=wfcWRAxRVBA) \n",
    "\n",
    "In dieser Übung werden Klassen und Objekte verwendet.  "
   ]
  },
  {
   "cell_type": "markdown",
   "id": "decd4fc1c631df63",
   "metadata": {
    "collapsed": false
   },
   "source": [
    "## 1. \"Node-Walking\" - Durchlaufen von Knoten in einer Datenstruktur\n",
    "\n",
    "Aufgabenstellung:\n",
    "\n",
    "Schreibe eine Funktion, die ein Objekt vom Typ Node als Eingabeparameter erhält. Diese Funktion soll alle \"gespeicherten\" Werte in den Knoten der verketteten Liste durchlaufen und ausgeben.\n",
    "\n",
    "Der Node ist in diesem Beispiel der grundlegender Bestandteil dieser verkettete Liste (Datenstruktur). Jeder Knoten (Node) in dieser Liste enthält typischerweise zwei Elemente:\n",
    "\n",
    " - Einen Wert (oder Daten), den der Knoten speichert.\n",
    " - Einen Verweis auf den nächsten Knoten in der Liste.\n",
    "\n",
    "Beim \"Node-Walking\" geht es darum, von einem Knoten zum nächsten zu \"gehen\" (zu navigieren), bis alle Knoten besucht wurden. Dieser Vorgang wird oft in Datenstrukturen und Algorithmen verwendet und ist ein fundamentales Konzept in der Programmierung."
   ]
  },
  {
   "cell_type": "code",
   "execution_count": null,
   "id": "68b46371e2843898",
   "metadata": {
    "ExecuteTime": {
     "end_time": "2023-11-10T16:05:04.382954400Z",
     "start_time": "2023-11-10T16:05:04.375932Z"
    },
    "collapsed": false
   },
   "outputs": [],
   "source": [
    "class Node:\n",
    "    \n",
    "    def __init__(self, data = None, next_node = None):\n",
    "        self._data = data\n",
    "        self._next_node = next_node\n",
    "\n",
    "    def set_next_node(self, next_node):\n",
    "        self._next_node = next_node\n",
    "        \n",
    "    def set_data(self, data):\n",
    "        self._data = data\n",
    "        \n",
    "    def get_next_node(self):\n",
    "        return self._next_node\n",
    "    \n",
    "    def get_data(self):\n",
    "        return self._data\n",
    "    \n",
    "    \n",
    "def get_example_nodes() -> Node:\n",
    "    start_node = Node(\"Erster Eintrag\")\n",
    "    node_2 = Node(\"Zweiter Eintrag\")\n",
    "    start_node.set_next_node(node_2)\n",
    "    node_3 = Node(\"Dritter Eintrag\")\n",
    "    node_2.set_next_node(node_3)\n",
    "    node_4 = Node(\"Vierter Eintrag\")\n",
    "    node_3.set_next_node(node_4)\n",
    "    node_5 = Node(\"Fünfter Eintrag\")\n",
    "    node_4.set_next_node(node_5)\n",
    "    return start_node\n",
    "    \n",
    "def get_example_nodes_circle() -> Node:\n",
    "    start_node = Node(\"Erster Eintrag\")\n",
    "    node_2 = Node(\"Zweiter Eintrag\")\n",
    "    start_node.set_next_node(node_2)\n",
    "    node_3 = Node(\"Dritter Eintrag\")\n",
    "    node_2.set_next_node(node_3)\n",
    "    node_4 = Node(\"Vierter Eintrag\")\n",
    "    node_3.set_next_node(node_4)\n",
    "    node_5 = Node(\"Fünfter Eintrag\")\n",
    "    node_4.set_next_node(node_5)\n",
    "    node_5.set_next_node(start_node)\n",
    "    return start_node"
   ]
  },
  {
   "cell_type": "markdown",
   "id": "a94bb1d9f2c4023e",
   "metadata": {
    "collapsed": false
   },
   "source": [
    "#### Teil 1\n",
    "\n",
    "Vervollständige diese Funktion, sodass diese den nachfolgenden Output generiert:\n",
    "```\n",
    "Erster Eintrag\n",
    "Zweiter Eintrag\n",
    "Dritter Eintrag\n",
    "Vierter Eintrag\n",
    "Fünfter Eintrag\n",
    "```"
   ]
  },
  {
   "cell_type": "code",
   "execution_count": null,
   "id": "736b9b2448565e46",
   "metadata": {
    "ExecuteTime": {
     "end_time": "2023-11-10T16:09:01.672020700Z",
     "start_time": "2023-11-10T16:09:01.667177600Z"
    },
    "collapsed": false
   },
   "outputs": [],
   "source": []
  },
  {
   "cell_type": "markdown",
   "id": "410a7acda6d0783d",
   "metadata": {
    "collapsed": false
   },
   "source": [
    "#### Teil 2\n",
    "\n",
    "Teste ob deine Funktion auch mit `get_example_nodes_circle()` funktioniert. Wenn nicht: Fix it! "
   ]
  },
  {
   "cell_type": "code",
   "execution_count": null,
   "id": "1cfb50423e83fce3",
   "metadata": {
    "ExecuteTime": {
     "end_time": "2023-11-10T16:07:10.471144200Z",
     "start_time": "2023-11-10T16:07:10.449983300Z"
    },
    "collapsed": false
   },
   "outputs": [],
   "source": []
  },
  {
   "cell_type": "markdown",
   "id": "6b039e7d20a7f477",
   "metadata": {
    "collapsed": false
   },
   "source": [
    "## 2. Node - Erweiterung\n",
    "\n",
    "Erweitere deine Klasse Node, dass du Sie in beide Richtungen durchlaufen kannst. Implementiere anschliessend die Funktion `print_node_contents_reversed()`"
   ]
  },
  {
   "cell_type": "code",
   "execution_count": null,
   "id": "d8a6c94f968eab55",
   "metadata": {
    "ExecuteTime": {
     "end_time": "2023-11-10T16:10:33.772392100Z",
     "start_time": "2023-11-10T16:10:33.768877Z"
    },
    "collapsed": false
   },
   "outputs": [],
   "source": [
    "def print_node_contents_reversed(node: Node):\n",
    "    # TODO: Implement\n",
    "    pass"
   ]
  },
  {
   "cell_type": "markdown",
   "id": "b8fad7afcaabdc37",
   "metadata": {
    "collapsed": false
   },
   "source": []
  },
  {
   "cell_type": "markdown",
   "id": "4937f7ad86333d7",
   "metadata": {
    "collapsed": false
   },
   "source": [
    "## 3. LinkedList\n",
    "\n",
    "Vervollständige die Implementierung der `LinkedList`. \n"
   ]
  },
  {
   "cell_type": "code",
   "execution_count": null,
   "id": "f2b06fd04f34b011",
   "metadata": {
    "ExecuteTime": {
     "end_time": "2023-11-10T16:28:43.475345100Z",
     "start_time": "2023-11-10T16:28:43.471829Z"
    },
    "collapsed": false
   },
   "outputs": [],
   "source": [
    "class LinkedList:\n",
    "    \n",
    "    def __init__(self):\n",
    "        self.start_node : Node = None\n",
    "        # TODO: Implement\n",
    "        \n",
    "    def length(self):\n",
    "        # TODO: Implement\n",
    "        pass\n",
    "    \n",
    "    def append(self, data):\n",
    "        # TODO: Implement\n",
    "        pass\n",
    "        \n",
    "    def __getitem__(self, item):\n",
    "        # TODO: Implement\n",
    "        pass\n",
    "    \n",
    "    def __setitem__(self, item):\n",
    "        # TODO: Implement\n",
    "        pass"
   ]
  },
  {
   "cell_type": "code",
   "execution_count": null,
   "id": "cf9bae896a33f9b9",
   "metadata": {
    "ExecuteTime": {
     "end_time": "2023-11-10T16:34:06.911001900Z",
     "start_time": "2023-11-10T16:34:06.901293400Z"
    },
    "collapsed": false
   },
   "outputs": [],
   "source": []
  },
  {
   "cell_type": "markdown",
   "metadata": {},
   "source": [
    "Nutze das nachfolgende Skript um deine Implementation zu testen:"
   ]
  },
  {
   "cell_type": "code",
   "execution_count": null,
   "id": "2193f7ac90d83a6b",
   "metadata": {
    "ExecuteTime": {
     "end_time": "2023-11-10T16:34:25.979976700Z",
     "start_time": "2023-11-10T16:34:25.973342200Z"
    },
    "collapsed": false
   },
   "outputs": [],
   "source": [
    "meine_liste = LinkedList()\n",
    "\n",
    "meine_liste.append(\"Erster Eintrag\")\n",
    "meine_liste.append(\"Zweiter Eintrag\")\n",
    "meine_liste.append(\"Dritter Eintrag\")\n",
    "\n",
    "assert(meine_liste.length() == 3)\n",
    "\n",
    "assert(meine_liste[2] == \"Dritter Eintrag\")\n",
    "assert(meine_liste[0] == \"Erster Eintrag\")\n",
    "\n",
    "meine_liste[1] = \"Dampfschiff\"\n",
    "\n",
    "assert(meine_liste[1] == \"Dampfschiff\")\n",
    "\n",
    "print(\"Tests successful\")"
   ]
  }
 ],
 "metadata": {
  "kernelspec": {
   "display_name": "Python 3",
   "language": "python",
   "name": "python3"
  },
  "language_info": {
   "codemirror_mode": {
    "name": "ipython",
    "version": 2
   },
   "file_extension": ".py",
   "mimetype": "text/x-python",
   "name": "python",
   "nbconvert_exporter": "python",
   "pygments_lexer": "ipython2",
   "version": "2.7.6"
  }
 },
 "nbformat": 4,
 "nbformat_minor": 5
}

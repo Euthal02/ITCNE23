{
 "cells": [
  {
   "cell_type": "markdown",
   "id": "c5e5ebb8d548b20b",
   "metadata": {
    "collapsed": false
   },
   "source": [
    "![Empowering Picture](intro.png)\n",
    "\n",
    "# Das Garagentor\n",
    "\n",
    "## Lerninhalte\n",
    "\n",
    "Diese Aufgabe besteht aus mehreren Teilen und beinhaltet nachfolgende Lerninhalte:\n",
    "  - Grundwissen Python: Parsen von Strings in float, Arrays, Tuples, Generatoren, usw. \n",
    "  - [MQTT](https://de.wikipedia.org/wiki/MQTT), siehe Youtube Video [What is MQTT and How It Works](https://www.youtube.com/watch?v=EIxdz-2rhLs) \n",
    "  - MQTT Client mit der Library [paho-mqtt](https://pypi.org/project/paho-mqtt/)\n",
    "  - Informationen mit einem [Flask](https://flask.palletsprojects.com/en/3.0.x/) [HTTP Server](https://de.wikipedia.org/wiki/Client-Server-Modell) bereitstellen\n",
    "  - Notifications mit [Pushover](https://pushover.net/) auf ein Smartphone schicken \n",
    "  - Mit einem [Scheduler](https://schedule.readthedocs.io/en/stable/index.html) regelmässig eine Funktion (Task) ausführen\n",
    "\n",
    "## Voraussetzungen\n",
    "Nebst den Standard-Libraries von Python werden folgende zusätzliche Libraries benötigt (Tipp: Verwende `requirements.txt` für die Installation aller Depedencies in Pycharm):\n",
    " - paho-mqtt\n",
    " - requests\n",
    " - schedule\n",
    " - flask\n",
    "\n",
    "Wenn du einen physischen Garagesensor zum Testen verwenden möchtest und einen M5Stack Core2 zur Verfügung hast, kannst du folgende Firmware verwenden: [alptbz/core2imu](https://github.com/alptbz/core2imu)\n",
    "\n",
    "## Intro\n",
    "\n",
    "<i>Du lebst mit Freunden in einem kleinen Haus am Stadtrand. Alles läuft rund und ihr habt es gemütlich zusammen. Wäre da nicht das kleine Drama mit dem Garagentor: Einer deiner Freunde lässt immer das Garagentor offen, wenn er am Morgen mit seinem Cargo-Velo zur Arbeit fährt. Trotz mehreren Krisensitzungen in der Wohngemeinschaft hat sich sein Verhalten nicht wirklich verbessert. Jetzt vergisst er es nicht mehr jedes Mal, aber jedes zweite Mal. Es wurde bereits eine Spitzhacke aus der Garage gestohlen und eine Katze hat hineingekotet. Du hast genug davon und möchtest mit einer technischen Lösung deinen Mitbewohner daran erinnern das Garagentor zu schliessen, wenn er mal wieder nicht selber daran denkt. Hoffentlich vergisst er sein Handy nicht und prüft es regelmässig auf neue Nachrichten...</i> \n",
    "\n",
    "<i>Im ersten Schritt benötigst du einen Sensor, der zuverlässig feststellen kann, ob das Garagentor offen ist oder nicht. Du entscheidest dich dies mit einem Lagesensor umzusetzen. Als Informatiker hast du selbstverständlich ein perfektes WLAN im ganzen Haus. Deshalb entscheidest du dich für einen WLAN basierten Lagesensor der MQTT als Kommunikationsprotokoll unterstützt.</i>\n",
    "\n",
    "![Lagesensor am Garagentor](garagentor_schema.png)\n",
    "\n",
    "<i>Abbildung: Der Lagesensor wird direkt am Tor angebracht. Sobald sich das Tor öffnet, ändert der Lagesensor seine Orientierung im Raum und damit die Messwerte des Beschleunigungssensors. </i>\n",
    "\n",
    "In dieser Übung werden wir Schritt für Schritt ein Backend bauen, dass die Sensorwerte via MQTT entgegennimmt, auswertet und wenn das Garagentor zu lange offen steht, eine Benachrichtigung an ein Smartphone sendet. \n",
    "\n",
    "Zu Beginn der Übung benötigst du nur dieses *Juypter Notebook*. "
   ]
  },
  {
   "cell_type": "markdown",
   "id": "9b44ed9d53b183e",
   "metadata": {
    "collapsed": false
   },
   "source": [
    "# Teil 1 - Parsen\n",
    "\n",
    "<i>Inzwischen hast du den Sensor gekauft, am Garagentor befestigt, per WLAN verbunden und mit dem MQTT Broker verknüpft. Obwohl der Sensor in der Lage ist selbstständig festzustellen, ob das Garagentor offen ist oder nicht und dies sogar auf dem Bildschirm anzeigt, verschickt er via MQTT nur seine Sensordaten des Beschleunigungssensors.</i>\n",
    "\n",
    "Nun benötigen wir eine Funktion, die uns zuverlässig angibt, ob das Garagentor geöffnet ist oder nicht. \n",
    "\n",
    "- Beispielwert für das geschlossene Tor: `-0.03,0.99,0.05`\n",
    "- Beispielwert für das geöffnete Tor: `-0.09,0.03,-0.92`\n",
    "\n",
    "(Der Wert 1.0 entspricht der einfachen Erdbeschleunigung = 1 G. (~ 9.81 m/s^2).)  \n",
    "\n",
    "Die Werte stehen für die Beschleunigungen der jeweiligen Achsen (x, y, z). Wenn der Sensor relativ zur Erde in Ruhe ist, entspricht die resultierende Vektorsumme der Beschleunigung der auf den Sensor wirkenden Gravitationsbeschleunigung der Erde.\n",
    "\n"
   ]
  },
  {
   "cell_type": "markdown",
   "id": "715bb2685e1bf8f7",
   "metadata": {
    "collapsed": false
   },
   "source": [
    "<b>Challenge 1: Schreibe eine Funktion, die den `raw_sensor_value` in drei Teile aufsplittet und als Array zurückgibt.</b>"
   ]
  },
  {
   "cell_type": "code",
   "execution_count": null,
   "id": "44572c12a0c8b5d0",
   "metadata": {
    "collapsed": false
   },
   "outputs": [],
   "source": [
    "def split_into_values(raw_sensor_value: str):\n",
    "    return raw_sensor_value.split(\",\")\n",
    "    # TODO: Implement\n",
    "    pass\n",
    "\n",
    "split_into_values(\"-0.03,0.99,0.05\")"
   ]
  },
  {
   "cell_type": "markdown",
   "id": "529e3033a4e0acb3",
   "metadata": {
    "collapsed": false
   },
   "source": [
    "<b>Challenge 2: Erweitere die Funktion so, dass sie drei Zahlenwerte (`float`) als Tuple zurückgibt. </b>"
   ]
  },
  {
   "cell_type": "code",
   "execution_count": null,
   "id": "3c1957bdeb4baff",
   "metadata": {
    "collapsed": false
   },
   "outputs": [],
   "source": [
    "def split_into_axis(raw_sensor_value: str):\n",
    "    # TODO: Implement\n",
    "    pass\n",
    "\n",
    "split_into_values(\"-0.03,0.99,0.05\")"
   ]
  },
  {
   "cell_type": "markdown",
   "id": "94c3756379496d9b",
   "metadata": {
    "collapsed": false
   },
   "source": [
    "<b>Challenge 3: Nun entwickle eine weitere Funktion, die als Input den `raw_sensor_value` annimmt und dir zuverlässig angibt, ob das Tor offen (True), geschlossen (False) ist oder der Zustand unbekannt ist (None). </b>\n"
   ]
  },
  {
   "cell_type": "code",
   "execution_count": null,
   "id": "318eb20794c98317",
   "metadata": {
    "collapsed": false
   },
   "outputs": [],
   "source": [
    "def is_garage_door_open(raw_sensor_value: str):\n",
    "    x, y, z = split_into_axis(raw_sensor_value)\n",
    "    # TODO: Implement\n",
    "    pass\n",
    "    \n",
    "assert not is_garage_door_open(\"-0.03,0.99,0.05\")\n",
    "assert not is_garage_door_open(\"-0.03,0.85,0.05\")\n",
    "assert is_garage_door_open(\"-0.03,0.0,-0.85\")\n",
    "assert is_garage_door_open(\"-0.03,0.0,-0.9\")\n",
    "assert is_garage_door_open(\"-0.03,0.0,-0.4\") is None\n",
    "print(\"All tests successful\")\n"
   ]
  },
  {
   "cell_type": "markdown",
   "id": "1b2607146551ed1",
   "metadata": {
    "collapsed": false
   },
   "source": [
    "<b>Challenge 4: Nun benötigen wir eine weitere Funktion, die als Input den Rückgabewert aus `is_garage_door_open` erhält und einen String mit dem jeweilig passenden Inhalt \"Offen\", \"Geschlossen\" oder \"Wedernoch\" zurückgibt.  </b>\n"
   ]
  },
  {
   "cell_type": "code",
   "execution_count": null,
   "id": "30f32c036db4ec9f",
   "metadata": {
    "collapsed": false
   },
   "outputs": [],
   "source": [
    "def garage_door_eval_to_str(eval):\n",
    "    # TODO: Implement\n",
    "    pass\n",
    "    \n",
    "    \n",
    "assert garage_door_eval_to_str(True) == \"Offen\"\n",
    "assert garage_door_eval_to_str(False) == \"Geschlossen\"\n",
    "assert garage_door_eval_to_str(None) == \"Wedernoch\"\n",
    "print(\"All tests successful\")\n"
   ]
  },
  {
   "cell_type": "markdown",
   "id": "7ac1bf9bded7e13e",
   "metadata": {
    "collapsed": false
   },
   "source": [
    "<b>Challange 5: Die Verwendung von None als Zustand ist ein wenig unschön. Mit einem Enum können wir das besser im Code abbilden. Baue eine neue Funktion `eval_garage_door_state`, die als Rückgabewert ein Enum des Typs `GarageDoorState` zurückgibt. </b>\n",
    "\n",
    "<i>Erklärung: `None` eignet sich hier nicht um einen Zustand abzubilden, weil es den Code schwerer verständlicher macht und sich `None` anders verhält. Mithilfe des Enums ist es für den Entwickler viel klarer, welcher Zustand das Tor gerade hat.</i> "
   ]
  },
  {
   "cell_type": "code",
   "execution_count": null,
   "id": "9538361f6f08eb1f",
   "metadata": {
    "collapsed": false
   },
   "outputs": [],
   "source": [
    "from enum import Enum\n",
    "\n",
    "class GarageDoorState(Enum):\n",
    "    CLOSED = 1,\n",
    "    OPEN = 2,\n",
    "    NEITHER = 3\n",
    "    \n",
    "def eval_garage_door_state(raw_sensor_value: str) -> GarageDoorState:\n",
    "    x, y, z = split_into_axis(raw_sensor_value)\n",
    "    # TODO: Implement\n",
    "\n",
    "assert eval_garage_door_state(\"-0.03,0.99,0.05\") == GarageDoorState.CLOSED\n",
    "assert eval_garage_door_state(\"-0.03,0.85,0.05\") == GarageDoorState.CLOSED\n",
    "assert eval_garage_door_state(\"-0.03,0.0,-0.85\") == GarageDoorState.OPEN\n",
    "assert eval_garage_door_state(\"-0.03,0.0,-0.9\") == GarageDoorState.OPEN\n",
    "assert eval_garage_door_state(\"-0.03,0.0,-0.4\")  == GarageDoorState.NEITHER\n",
    "print(\"All tests successful\")"
   ]
  },
  {
   "cell_type": "markdown",
   "id": "d4411fb01b6a3caf",
   "metadata": {
    "collapsed": false
   },
   "source": [
    "<b>Challenge 6: Erweitere nun die Enum Klasse so, dass sie für einen Enum Wert einen String mit den Beschreibungen aus Challenge 4 zurückgibt. Ergänze den nachfolgenden Code:</b>"
   ]
  },
  {
   "cell_type": "code",
   "execution_count": null,
   "id": "a38c7dfb8779257a",
   "metadata": {
    "collapsed": false
   },
   "outputs": [],
   "source": [
    "from enum import Enum\n",
    "\n",
    "class GarageDoorState(Enum):\n",
    "    CLOSED = 1,\n",
    "    OPEN = 2,\n",
    "    NEITHER = 3\n",
    "\n",
    "    def __str__(self):\n",
    "        if self.value == GarageDoorState.OPEN.value:\n",
    "            return \"Offen\"\n",
    "        # TODO: Implement\n",
    "    \n",
    "   \n",
    "assert str(GarageDoorState.OPEN) == \"Offen\"\n",
    "assert str(GarageDoorState.CLOSED) == \"Geschlossen\"\n",
    "assert str(GarageDoorState.NEITHER) == \"Wedernoch\"\n",
    "\n",
    "print(\"All tests successful\")"
   ]
  },
  {
   "cell_type": "markdown",
   "id": "98b555a178b4f529",
   "metadata": {
    "collapsed": false
   },
   "source": [
    "# Teil 2 - MQTT\n",
    "\n",
    "Jetzt sind wir in der Lage die Sensorwerte zu parsen und auszuwerten. Im nächsten Schritt möchten wir nun die echten Sensorwerte via MQTT empfangen und im Terminal ausgeben, wenn das Garagentor geöffnet ist und wann nicht. \n",
    "\n",
    "Dazu verwenden wir die Library [paho-mqtt](https://pypi.org/project/paho-mqtt/). In README findet man einen Beispielcode. Dieser liegt unten in angepasster Form vor. \n",
    "\n",
    "Es gibt unzählige Tools und Libraries, um sich mit einem MQTT Broker zu verbinden (Auch als `Client Library` bezeichnet). Ein nützliches Tool ist der [MQTT Explorer](https://mqtt-explorer.com/). \n",
    "\n",
    "Installiere dieses Programm auf deinem Gerät und verbinde ich anschliessend mit dem MQTT Server `cloud.tbz.ch` (Protokoll: mqtt, Port: 1883). Benutzername und Passwort wird keines benötigt.  \n",
    "\n",
    "Anschliessend kannst du auf dem Topic, dass du unten im Code definiert hast (aktuell `m5core2/accel`), mithilfe des MQTT Explorer eine Message publishen und prüfen, ob diese ausgegeben wird. \n",
    "\n",
    "<b>Achtung: Wenn du die Zelle (Skript) unten startest, beendet sich das Skript nicht automatisch. `client.loop_forever()` macht, dass das Skript weiterläuft, sodass es Messages via MQTT empfangen und verarbeiten kann. Ob eine Zelle noch ausgeführt wird, kann an einem sich bewegenden schmalen Balken am Ende der Zelle erkannt werden. Du musst die Zelle bzw. das Skript jeweils von Hand stoppen.</b>\n",
    "\n",
    "## MQTT Broker - cloud.tbz.ch\n",
    "\n",
    "In dieser Übung wird der öffentliche MQTT Broker der TBZ verwenden (cloud.tbz.ch). Jeder kann sich mit diesem Broker ohne Authentifizierung verbinden. Dieser Broker eignet sich nur für Demo-Zwecke und ist nicht für produktive Anwendungen verwendet werden. Das Übermitteln von Personendaten über diesen Broker stellt eine Datenschutzverletzung dar und ist zu unterlassen. \n",
    "\n",
    "Es gibt im Internet unzähle Anleitungen, wie man einen eigenen MQTT Broker (=MQTT Server) aufsetzen kann:\n",
    " - [Raspberry Pi: MQTT-Broker Mosquitto installieren und konfigurieren](https://www.elektronik-kompendium.de/sites/raspberry-pi/2709041.htm)\n",
    " - [How to Install and Secure the Mosquitto MQTT Messaging Broker on Debian 10](https://www.digitalocean.com/community/tutorials/how-to-install-and-secure-the-mosquitto-mqtt-messaging-broker-on-debian-10)\n",
    " \n",
    "Da alle Kursteilnehmer denselben MQTT Broker verwenden, empfiehlt es sich das Topic für den Sensorwert (`m5core2/accel`) individuell anzupassen. \n",
    "\n",
    "## Challenges\n",
    "\n",
    "<b>Challenge 7: Setze nun deine Funktion `eval_garage_door_state` in den nachfolgenden Code ein, um die Sensorwerte auszuwerten und gebe das Resultat bzw. den Garangentor-Zustand auf dem Terminal aus.</b>"
   ]
  },
  {
   "cell_type": "code",
   "execution_count": null,
   "id": "46624154e0fdc20d",
   "metadata": {
    "collapsed": false
   },
   "outputs": [],
   "source": [
    "import paho.mqtt.client as mqtt\n",
    "\n",
    "GARAGE_DOOR_TOPIC = \"m5core2/accel\"\n",
    "\n",
    "# The callback for when the client receives a CONNACK response from the server.\n",
    "def on_connect(client, userdata, flags, rc):\n",
    "    print(\"Connected with result code \"+str(rc))\n",
    "\n",
    "    # Subscribing in on_connect() means that if we lose the connection and\n",
    "    # reconnect then subscriptions will be renewed.\n",
    "    client.subscribe(GARAGE_DOOR_TOPIC)\n",
    "\n",
    "# The callback for when a PUBLISH message is received from the server.\n",
    "def on_message(client, userdata, msg):\n",
    "    if msg.topic == GARAGE_DOOR_TOPIC:\n",
    "        msg_str = msg.payload.decode(\"utf-8\")\n",
    "        # TODO: Implement\n",
    "        print(msg_str)    \n",
    "    \n",
    "\n",
    "client = mqtt.Client()\n",
    "client.on_connect = on_connect\n",
    "client.on_message = on_message\n",
    "\n",
    "client.connect(\"cloud.tbz.ch\", 1883, 60)\n",
    "\n",
    "# Blocking call that processes network traffic, dispatches callbacks and\n",
    "# handles reconnecting.\n",
    "# Other loop*() functions are available that give a threaded interface and a\n",
    "# manual interface.\n",
    "client.loop_forever()"
   ]
  },
  {
   "cell_type": "markdown",
   "id": "5e620b618c2db051",
   "metadata": {
    "collapsed": false
   },
   "source": [
    "<b>Challenge 8: Natürlich macht es keinen Sinn, dass jedes Mal, wenn der Sensor einen Wert übermittelt, auf dem Terminal der Zustand erneut ausgegeben wird. Erweitere den Code, dass nur bei Zustandsänderung eine Ausgabe erfolgt.</b> "
   ]
  },
  {
   "cell_type": "code",
   "execution_count": null,
   "id": "1c76b74a88ec4ad",
   "metadata": {
    "collapsed": false
   },
   "outputs": [],
   "source": [
    "import paho.mqtt.client as mqtt\n",
    "\n",
    "GARAGE_DOOR_TOPIC = \"m5core2/accel\"\n",
    "last_state: GarageDoorState = GarageDoorState.NEITHER\n",
    "\n",
    "# The callback for when the client receives a CONNACK response from the server.\n",
    "def on_connect(client, userdata, flags, rc):\n",
    "    print(\"Connected with result code \"+str(rc))\n",
    "\n",
    "    # Subscribing in on_connect() means that if we lose the connection and\n",
    "    # reconnect then subscriptions will be renewed.\n",
    "    client.subscribe(GARAGE_DOOR_TOPIC)\n",
    "\n",
    "# The callback for when a PUBLISH message is received from the server.\n",
    "def on_message(client, userdata, msg):\n",
    "    global last_state\n",
    "    if msg.topic == GARAGE_DOOR_TOPIC:\n",
    "        msg_str = msg.payload.decode(\"utf-8\")\n",
    "        # TODO: Implement\n",
    "    \n",
    "\n",
    "client = mqtt.Client()\n",
    "client.on_connect = on_connect\n",
    "client.on_message = on_message\n",
    "\n",
    "client.connect(\"cloud.tbz.ch\", 1883, 60)\n",
    "\n",
    "# Blocking call that processes network traffic, dispatches callbacks and\n",
    "# handles reconnecting.\n",
    "# Other loop*() functions are available that give a threaded interface and a\n",
    "# manual interface.\n",
    "client.loop_forever()"
   ]
  },
  {
   "cell_type": "markdown",
   "id": "342ee8661246bd6c",
   "metadata": {
    "collapsed": false
   },
   "source": [
    "# Teil 3 - HTTP service\n",
    "\n",
    "Nun möchten wir den Zustand des Garagentors über einen HTTP Service bereitstellen. Dafür verwenden wir das [HTTP Framework flask](https://flask.palletsprojects.com/en/3.0.x/). \n",
    "\n",
    "<b>Achtung: Wenn du die Zelle (Skript) unten startest, beendet sich das Skript nicht automatisch. `app.run()` macht, dass das Skript weiterläuft, sodass es HTTP Client Verbindungen entgegennehmen kann. Ob eine Zelle noch ausgeführt wird, kann an einem sich bewegenden schmalen Balken am Ende der Zelle erkannt werden. Du musst die Zelle bzw. das Skript jeweils von Hand stoppen.</b>\n",
    "\n",
    "<b>Challenge 9: Probiere den nachfolgenden Flask Demo Code aus. Versuche eine weitere Unterseite `/hihi` hinzufügen, welche `Ente` zurückgibt. </b>"
   ]
  },
  {
   "cell_type": "code",
   "execution_count": null,
   "id": "a546e945388a400c",
   "metadata": {
    "collapsed": false
   },
   "outputs": [],
   "source": [
    "\n",
    "# import flast module\n",
    "from flask import Flask\n",
    " \n",
    "# instance of flask application\n",
    "app = Flask(__name__)\n",
    " \n",
    "# home route that returns below text when root url is accessed\n",
    "@app.route(\"/\")\n",
    "def hello_world():\n",
    "    return \"<p>Hello, World!</p>\"\n",
    "\n",
    "# TODO: Implement new site /hihi\n",
    " \n",
    "if __name__ == '__main__':  \n",
    "   app.run()"
   ]
  },
  {
   "cell_type": "markdown",
   "id": "46a05ae741ab9b99",
   "metadata": {
    "collapsed": false
   },
   "source": [
    "## MQTT Client mit HTTP Service\n",
    "\n",
    "Der nachfolgende Code verknüpft den MQTT Client mit dem HTTP Server Service. \n",
    "\n",
    "<b>Challenge 10: Ergänze den nachfolgenden Code, sodass der Zustand des Garagentors via HTTP (d.h. über den Webbrowser) abgerufen werden kann.</b> "
   ]
  },
  {
   "cell_type": "code",
   "execution_count": null,
   "id": "349bd5d05f3c3427",
   "metadata": {
    "collapsed": false
   },
   "outputs": [],
   "source": [
    "import paho.mqtt.client as mqtt\n",
    "\n",
    "#  TOPIC on which we receive the sensor data \n",
    "GARAGE_DOOR_TOPIC = \"m5core2/accel\"\n",
    "\n",
    "# global variable to keep the last state of the garage door \n",
    "last_state: GarageDoorState = GarageDoorState.NEITHER\n",
    "\n",
    "# import flast module\n",
    "from flask import Flask\n",
    " \n",
    "# instance of flask application\n",
    "app = Flask(__name__)\n",
    "\n",
    "# The callback for when the client receives a CONNACK response from the server.\n",
    "def on_connect(client, userdata, flags, rc):\n",
    "    print(\"Connected with result code \"+str(rc))\n",
    "\n",
    "    # Subscribing in on_connect() means that if we lose the connection and\n",
    "    # reconnect then subscriptions will be renewed.\n",
    "    client.subscribe(GARAGE_DOOR_TOPIC)\n",
    "\n",
    "# The callback for when a PUBLISH message is received from the server.\n",
    "def on_message(client, userdata, msg):\n",
    "    # import the global variable into the function\n",
    "    global last_state\n",
    "    # check if topic is sequal to ours\n",
    "    if msg.topic == GARAGE_DOOR_TOPIC:\n",
    "        msg_str = msg.payload.decode(\"utf-8\")\n",
    "        # TODO: Implement\n",
    "    \n",
    "\n",
    "client = mqtt.Client()\n",
    "client.on_connect = on_connect\n",
    "client.on_message = on_message\n",
    "\n",
    "client.connect(\"cloud.tbz.ch\", 1883, 60)\n",
    "\n",
    "@app.route(\"/\")\n",
    "def index():\n",
    "    return f\"<p>Die Garage ist ?</p>\"\n",
    " \n",
    "client.loop_start()\n",
    " \n",
    "if __name__ == '__main__':  \n",
    "   app.run()"
   ]
  },
  {
   "cell_type": "markdown",
   "id": "d92c4273c7cae55d",
   "metadata": {
    "collapsed": false
   },
   "source": [
    "# Teil 4 - Pushover\n",
    "\n",
    "Natürlich wäre es toll, wenn wir automatisch eine Benachrichtigung auf unserem Smartphone erhalten, sobald das Garagentor zu lange offen steht. Um Benachrichtigungen auf ein Smartphone zu senden, gibt es verschiedene Möglichkeiten: E-Mail, Telegram Bot, usw. \n",
    "\n",
    "In diesem Beispiel verwenden wir den Service [Pushover](https://pushover.net). Dafür müssen wir:\n",
    "- Auf [pushover.net](https://pushover.net) einen Account anlegen (Falls noch nicht vorhanden). \n",
    "- Pushover auf eigenem Smartphone installieren und einloggen\n",
    "- Eigene Applikation registrieren (z.B. Demo Application), Siehe: [Pushover Application Registration](https://pushover.net/api#registration)<br>Achtung: Token wird nur einmal angezeigt!\n",
    "- User Token und Application Token unten im Beispielcode eingeben und ausprobieren. \n",
    "\n",
    "<b>Challenge 11: Führe die oben aufgeführte Schritte aus und sende dir mit dem Beispielcode unten eine Message auf dein Smartphone</b>\n",
    "\n"
   ]
  },
  {
   "cell_type": "code",
   "execution_count": null,
   "id": "deebaa4d4ae558bd",
   "metadata": {
    "collapsed": false
   },
   "outputs": [],
   "source": [
    "PUSHOVER_API_TOKEN = \"<YOUR API TOKEN HERE>\"\n",
    "PUSHOVER_USER_ID = \"<YOUR USER ID TOKEN HERE>\"\n",
    "\n",
    "def send_message_to_me(message):\n",
    "    import requests\n",
    "    resp = requests.post(\"https://api.pushover.net/1/messages.json\", data={\"token\": PUSHOVER_API_TOKEN , \"user\": PUSHOVER_USER_ID, \"message\": message})\n",
    "    print(resp)\n",
    "\n",
    "# Uncomment the following line to test:\n",
    "# send_message_to_me(\"Hello von Python!\")"
   ]
  },
  {
   "cell_type": "markdown",
   "id": "ada7b9835cac6671",
   "metadata": {
    "collapsed": false
   },
   "source": [
    "Sobald du die obige Zelle ausgeführt hast, kannst du die Funktion `send_message_to_me` auch an anderen Stellen in diesem Juypter Notebook verwenden. \n",
    "\n",
    "**Bevor du weiterfährst: Kopiere dir den Code von Challenge 10 in ein separates Python-Skript.**\n",
    "\n",
    "Teilweise gibt es bei der Ausführung von Zellen, die länger im Hintergrund laufen, seltsame Probleme (z.B. läuft der Code weiter, aber es kommt kein Output mehr). \n",
    "\n",
    "<b>Challenge 12: Erweitere das Skript von Challenge 10, sodass es eine Meldung via *Pushover* abschickt, sobald sich der Zustand des Garagentors ändert. Den Zustand `NEITHER` soll nicht abgeschickt, sondern ignoriert werden.</b>"
   ]
  },
  {
   "cell_type": "markdown",
   "id": "25fcd6728b0a3df2",
   "metadata": {
    "collapsed": false
   },
   "source": [
    "# Teil 5 - Logik\n",
    "\n",
    "<i>Natürlich wollen wir nicht ständig informiert werden, ob das Garagentor geöffnet oder geschlossen wird. Stattdessen soll unser liebe(r) Mitbewohner*in eine Nachricht auf sein Smartphone erhalten, wenn das Garagentor zu lange offen steht. Ob er es gewesen ist oder nicht, ist uns egal. Die anderen Mitbewohner sind nämlich in der Lage das Garagentor zu schliessen und brauchen dazu keine extra Einladung. Die sind es sicher nicht gewesen. Es muss es/sie gewesen sein!</i>\n",
    "\n",
    "Dafür verwenden wir folgende Logik:\n",
    "- Sobald das Garagentor den Zustand auf `OPEN` wechselt, wird in einer Variable `last_opened_timestamp` der aktuelle Zeitpunkt (Datum + Uhrzeit) gespeichert und die Variable `notification_sent` auf `False` gesetzt. \n",
    "- Eine Funktion, welche alle 5 Sekunden ausgeführt wird, prüft, ob seit dem Zeitpunkt (`last_opened_timestamp`) mehr als 5 Minuten vergangen sind und ob `notification_sent` gleich `False` ist. (Zu Testzwecken kürzeren Zeitraum wählen). \n",
    "- Wenn ja, wird die Funktion `send_message_to_me` mit einer Nachricht `Schliess das verdammte Garagentor! Wir haben dich Lieb. Deine Mitbewohner.` aufgerufen und die Variable `notification_sent` auf `True` gesetzt, sodass erst wieder eine Notification abgeschickt wird, wenn das Garagentor in der Zwischenzeit geschlossen wurde.\n",
    "\n",
    "<b>Achtung: Auch dieser Code läuft unendlich lang weiter, wenn er nicht gestoppt wird (oder dem Notebook der Strom ausgeht). Versuche herauszufinden weshalb!</b> "
   ]
  },
  {
   "cell_type": "markdown",
   "id": "53f636c654111c4b",
   "metadata": {
    "collapsed": false
   },
   "source": [
    "<b>Challenge 13: Erweitere den nachfolgenden Code so, dass alle 5 Sekunden das Wort \"Buuuum\" ausgegen wird. Tipp: Es benötigt eine weitere Funktion!</b>"
   ]
  },
  {
   "cell_type": "code",
   "execution_count": null,
   "id": "4453cb87e5ff614d",
   "metadata": {
    "collapsed": false
   },
   "outputs": [],
   "source": [
    "import schedule\n",
    "import time\n",
    "\n",
    "def job():\n",
    "    print(\"Peng\")\n",
    "    \n",
    "schedule.clear()\n",
    "schedule.every(2).seconds.do(job)\n",
    "\n",
    "while True:\n",
    "    schedule.run_pending()\n",
    "    time.sleep(1)"
   ]
  },
  {
   "cell_type": "markdown",
   "id": "2ed2eef27cd2917e",
   "metadata": {
    "collapsed": false
   },
   "source": [
    "Das Beispiel mit \"Peng\" und \"Buuum\" ist schon noch \"herzig\", aber entspricht ja nicht ganz dem, was wir benötigen. In der nächsten Zelle ist die Logik mithilfe der Library `schedule` teilweise implementiert, welche wir für unser Garagentor brauchen. \n",
    "\n",
    "<b>Challenge 14: Ergänze den Code, sodass die Notification nur einmal abgeschickt wird (bzw. `Sending Notification` nur einmal auf der Konsole ausgegeben wird, unabhängig davon wie lange der Code läuft). (Anstatt fünf Minuten warten wir nur 5 Sekunden</b> "
   ]
  },
  {
   "cell_type": "code",
   "execution_count": null,
   "id": "ed00a4e2446595d0",
   "metadata": {
    "collapsed": false
   },
   "outputs": [],
   "source": [
    "import schedule\n",
    "import time\n",
    "from datetime import datetime, timedelta\n",
    "\n",
    "last_state: GarageDoorState = GarageDoorState.OPEN\n",
    "last_opened_timestamp = datetime.now()\n",
    "notification_sent = False\n",
    "\n",
    "\n",
    "def check_garage_door_state():\n",
    "    global last_opened_timestamp, notification_sent\n",
    "    if (last_state == GarageDoorState.OPEN \n",
    "            and datetime.now() - last_opened_timestamp > timedelta(0, 5) \n",
    "            and not notification_sent):\n",
    "        print(\"Sending notification\")\n",
    "        # TODO: Implement\n",
    "\n",
    "\n",
    "schedule.clear()\n",
    "schedule.every(1).seconds.do(check_garage_door_state)\n",
    "\n",
    "while True:\n",
    "    schedule.run_pending()\n",
    "    time.sleep(1)"
   ]
  },
  {
   "cell_type": "markdown",
   "id": "13251a197a4bc418",
   "metadata": {
    "collapsed": false
   },
   "source": [
    "Nun haben wir alle Elemente, die wir für unseren Garagentor-Überwachung (oder Lazy-Friend-Helper) benötigen:\n",
    "- Die Sensordaten werden geparst und der Zustand des Garagentors ermittelt. \n",
    "- Die Sensordaten werden per MQTT empfangen.\n",
    "- Der Zustand des Garagentors kann über HTTP abgefragt werden.\n",
    "- Via Pushover kann eine Nachricht auf ein Smartphone geschickt werden. \n",
    "- Ein Code ist in der Lage festzustellen, ob das Garagentor zu lange offengestanden ist. \n",
    "\n",
    "Nun müssen wir nur noch den letzten Punkt (die \"Business-Logik\") in unsere kleine Applikation einbauen.   \n",
    "\n",
    "<b>Challenge 15: Implementiere nun die obige Logik in deinen Skript aus Challenge 12 und erreiche, dass deine Applikation den UseCase erfüllt.</b> "
   ]
  },
  {
   "cell_type": "markdown",
   "id": "edf42eddab5864c2",
   "metadata": {
    "collapsed": false
   },
   "source": [
    "**Tipp:** `app.run()` verwendet/blockiert bereits den Haupt-Thread. D.h. die `while True:`-Loop nicht im Haupt-Thread laufen, da dieser bereits beschäftigt ist. Deshalb muss der Scheduler aus einem anderen Thread aus gestartet werden. Dafür kannst du folgenden Code verwenden:  "
   ]
  },
  {
   "cell_type": "code",
   "execution_count": null,
   "id": "a9aa98a4483bcdac",
   "metadata": {
    "collapsed": false
   },
   "outputs": [],
   "source": [
    "def schedule_thread():\n",
    "    while True:\n",
    "        schedule.run_pending()\n",
    "        time.sleep(1)\n",
    "\n",
    "\n",
    "if __name__ == '__main__':\n",
    "    thread_schedule = Thread(target=schedule_thread, args=())\n",
    "    thread_schedule.start()\n",
    "    app.run()"
   ]
  }
 ],
 "metadata": {
  "kernelspec": {
   "display_name": "Python 3",
   "language": "python",
   "name": "python3"
  },
  "language_info": {
   "codemirror_mode": {
    "name": "ipython",
    "version": 2
   },
   "file_extension": ".py",
   "mimetype": "text/x-python",
   "name": "python",
   "nbconvert_exporter": "python",
   "pygments_lexer": "ipython2",
   "version": "2.7.6"
  }
 },
 "nbformat": 4,
 "nbformat_minor": 5
}
